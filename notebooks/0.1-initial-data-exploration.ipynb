{
 "cells": [
  {
   "cell_type": "markdown",
   "metadata": {
    "collapsed": true
   },
   "source": [
    "# Initial data exploration\n",
    "\n",
    "Let's see what we have in the database:"
   ]
  },
  {
   "cell_type": "code",
   "execution_count": 81,
   "metadata": {},
   "outputs": [
    {
     "name": "stdout",
     "output_type": "stream",
     "text": [
      "| Key      |   Uniq. Values |   Avg. items per key |\n",
      "|----------+----------------+----------------------|\n",
      "| brand    |            338 |                 4619 |\n",
      "| category |            527 |                 2962 |\n",
      "| size     |           1117 |                 1398 |\n",
      "| color    |          20333 |                   77 |\n",
      "| code     |          20078 |                   78 |\n",
      "Products in DB: 1561159\n"
     ]
    }
   ],
   "source": [
    "# The number of uniq. values for given key in database\n",
    "from pymongo import MongoClient\n",
    "from tabulate import tabulate\n",
    "\n",
    "\n",
    "db = MongoClient()['stores']\n",
    "col = db.data\n",
    "\n",
    "TOTAL_NUMBER_OF_PRODUCTS = col.count()\n",
    "\n",
    "db_size = col.count()\n",
    "keys = ['brand', 'category', 'size', 'color', 'code']\n",
    "uniq_values_by_key = []\n",
    "for key in keys:\n",
    "    res = col.distinct(key)\n",
    "    items_per_key = round(db_size / len(res))\n",
    "    uniq_values_by_key.append((key, len(res), items_per_key))\n",
    "\n",
    "print(tabulate(uniq_values_by_key, headers=['Key', 'Uniq. Values', 'Avg. items per key'], tablefmt=\"orgtbl\"))\n",
    "print(\"Products in DB: {}\".format(TOTAL_NUMBER_OF_PRODUCTS))"
   ]
  },
  {
   "cell_type": "markdown",
   "metadata": {},
   "source": [
    "## Products per Distributor"
   ]
  },
  {
   "cell_type": "code",
   "execution_count": 36,
   "metadata": {},
   "outputs": [
    {
     "name": "stdout",
     "output_type": "stream",
     "text": [
      "| Distributor   |   Number of Products |\n",
      "|---------------+----------------------|\n",
      "| marsha        |               226515 |\n",
      "| ignacia       |               209310 |\n",
      "| jeneva        |               145671 |\n",
      "| patti         |               130398 |\n",
      "| shemeka       |               126732 |\n",
      "| evie          |               109834 |\n",
      "| larry         |               105068 |\n",
      "| kina          |                88768 |\n",
      "| allegra       |                76808 |\n",
      "| major         |                65977 |\n",
      "| titus         |                60460 |\n",
      "| rossana       |                49008 |\n",
      "| denisha       |                45662 |\n",
      "| carey         |                36457 |\n",
      "| rubi          |                34641 |\n",
      "| wendell       |                25784 |\n",
      "| joanie        |                10345 |\n",
      "| yolande       |                 6388 |\n",
      "| zack          |                 3715 |\n",
      "| ciara         |                 3618 |\n"
     ]
    }
   ],
   "source": [
    "DISTRIBUTORS = list(col.distinct(\"source\"))\n",
    "results = col.aggregate(\n",
    "    [\n",
    "        {\n",
    "            \"$group\": {\n",
    "                \"_id\": \"$source\",\n",
    "                \"count\": {\"$sum\": 1},\n",
    "            }\n",
    "        },\n",
    "        {\n",
    "            \"$sort\": {\n",
    "                \"count\": -1,\n",
    "            }\n",
    "        }\n",
    "    ]\n",
    ")\n",
    "PRODUCTS_PER_DISTRIBUTOR = [\n",
    "    (str(x['_id']), x['count']) \n",
    "    for x in list(results)\n",
    "]\n",
    "print(tabulate(PRODUCTS_PER_DISTRIBUTOR, \n",
    "               headers=['Distributor', 'Number of Products'], \n",
    "               tablefmt=\"orgtbl\"))"
   ]
  },
  {
   "cell_type": "markdown",
   "metadata": {
    "collapsed": true
   },
   "source": [
    "## Top Brands"
   ]
  },
  {
   "cell_type": "code",
   "execution_count": 37,
   "metadata": {},
   "outputs": [
    {
     "name": "stdout",
     "output_type": "stream",
     "text": [
      "| Brand             |   Number of Products |\n",
      "|-------------------+----------------------|\n",
      "| augusta           |               137980 |\n",
      "|                   |               126929 |\n",
      "| gildan            |                94038 |\n",
      "| badger            |                72739 |\n",
      "| None              |                64153 |\n",
      "| port authority    |                53788 |\n",
      "| hanes             |                50641 |\n",
      "| comfort colors    |                42246 |\n",
      "| jerzees           |                34338 |\n",
      "| next level        |                33791 |\n",
      "| anvil             |                32603 |\n",
      "| bella+canvas      |                32241 |\n",
      "| ultraclub         |                29842 |\n",
      "| augusta drop ship |                28439 |\n",
      "| port & company    |                28186 |\n",
      "| champion          |                24737 |\n",
      "| sport-tek         |                24373 |\n",
      "| bella + canvas    |                24037 |\n",
      "| badger sport      |                23863 |\n",
      "| a4                |                23769 |\n"
     ]
    }
   ],
   "source": [
    "results = col.aggregate(\n",
    "    [\n",
    "        {\n",
    "            \"$group\": {\n",
    "                \"_id\": \"$brand\",\n",
    "                \"count\": {\"$sum\": 1},\n",
    "            }\n",
    "        },\n",
    "        {\n",
    "            \"$sort\": {\n",
    "                \"count\": -1,\n",
    "            }\n",
    "        },\n",
    "        {\n",
    "            \"$limit\": 20\n",
    "        }\n",
    "    ]\n",
    ")\n",
    "TOP_BRANDS = [(str(x['_id']), x['count']) for x in list(results)]\n",
    "print(tabulate(TOP_BRANDS, \n",
    "               headers=['Brand', 'Number of Products'], tablefmt=\"orgtbl\"))\n"
   ]
  },
  {
   "cell_type": "markdown",
   "metadata": {},
   "source": [
    "Brand field is empty for 126929 + 64153 products."
   ]
  },
  {
   "cell_type": "markdown",
   "metadata": {},
   "source": [
    "## Top Sizes\n"
   ]
  },
  {
   "cell_type": "code",
   "execution_count": 38,
   "metadata": {},
   "outputs": [
    {
     "name": "stdout",
     "output_type": "stream",
     "text": [
      "| Size     |   Number of Products |\n",
      "|----------+----------------------|\n",
      "| M        |               202965 |\n",
      "| L        |               202641 |\n",
      "| S        |               202589 |\n",
      "| XL       |               186166 |\n",
      "| 2XL      |               152014 |\n",
      "| 3XL      |               106966 |\n",
      "| XS       |                71104 |\n",
      "| 4XL      |                50869 |\n",
      "| MEDIUM   |                31645 |\n",
      "| LARGE    |                31599 |\n",
      "| SMALL    |                31506 |\n",
      "| EXTRA    |                31098 |\n",
      "| 2X       |                20091 |\n",
      "| 3X       |                20085 |\n",
      "| 5XL      |                17541 |\n",
      "| ONE      |                13786 |\n",
      "| XXL      |                11288 |\n",
      "| OS       |                 7615 |\n",
      "| ONE SIZE |                 7269 |\n",
      "| XX       |                 7184 |\n"
     ]
    }
   ],
   "source": [
    "results = col.aggregate(\n",
    "    [\n",
    "        {\n",
    "            \"$group\": {\n",
    "                \"_id\": \"$size\",\n",
    "                \"count\": {\"$sum\": 1},\n",
    "            }\n",
    "        },\n",
    "        {\n",
    "            \"$sort\": {\n",
    "                \"count\": -1,\n",
    "            }\n",
    "        },\n",
    "        {\n",
    "            \"$limit\": 20\n",
    "        }\n",
    "    ]\n",
    ")\n",
    "TOP_SIZES = [(str(x['_id']), x['count']) for x in list(results)]\n",
    "print(tabulate(TOP_SIZES, headers=['Size', 'Number of Products'], tablefmt=\"orgtbl\"))"
   ]
  },
  {
   "cell_type": "markdown",
   "metadata": {},
   "source": [
    "# Top Categories"
   ]
  },
  {
   "cell_type": "code",
   "execution_count": 39,
   "metadata": {},
   "outputs": [
    {
     "name": "stdout",
     "output_type": "stream",
     "text": [
      "| Category             |   Number of Products |\n",
      "|----------------------+----------------------|\n",
      "| t-shirts             |               193663 |\n",
      "| None                 |               129013 |\n",
      "| activewear           |                50966 |\n",
      "| tee shirts           |                43741 |\n",
      "| augusta              |                35186 |\n",
      "| mens tees            |                33545 |\n",
      "| performance          |                29677 |\n",
      "| teamwear             |                29162 |\n",
      "| augusta drop ship    |                28439 |\n",
      "| fleece               |                27280 |\n",
      "| polos                |                25884 |\n",
      "| outerwear            |                25068 |\n",
      "| polos/knits          |                24863 |\n",
      "| t shirts             |                24755 |\n",
      "| [mens]               |                23350 |\n",
      "| gildan               |                19964 |\n",
      "| big & tall+          |                19377 |\n",
      "| badger               |                18021 |\n",
      "| womens tees          |                16753 |\n",
      "| dickies occupational |                15706 |\n"
     ]
    }
   ],
   "source": [
    "results = col.aggregate(\n",
    "    [\n",
    "        {\n",
    "            \"$group\": {\n",
    "                \"_id\": \"$category\",\n",
    "                \"count\": {\"$sum\": 1},\n",
    "            }\n",
    "        },\n",
    "        {\n",
    "            \"$sort\": {\n",
    "                \"count\": -1,\n",
    "            }\n",
    "        },\n",
    "        {\n",
    "            \"$limit\": 20\n",
    "        }\n",
    "    ]\n",
    ")\n",
    "TOP_CATEGORIES = [(str(x['_id']), x['count']) for x in list(results)]\n",
    "print(tabulate(TOP_CATEGORIES, headers=['Category', 'Number of Products'], tablefmt=\"orgtbl\"))"
   ]
  },
  {
   "cell_type": "markdown",
   "metadata": {},
   "source": [
    "## Top Colors"
   ]
  },
  {
   "cell_type": "code",
   "execution_count": 44,
   "metadata": {},
   "outputs": [
    {
     "name": "stdout",
     "output_type": "stream",
     "text": [
      "| Color        |   Number of Products |\n",
      "|--------------+----------------------|\n",
      "| BLACK        |                95738 |\n",
      "| WHITE        |                68948 |\n",
      "| NAVY         |                57694 |\n",
      "| RED          |                42204 |\n",
      "| ROYAL        |                36039 |\n",
      "| MAROON       |                22059 |\n",
      "| PURPLE       |                19195 |\n",
      "| CHARCOAL     |                16196 |\n",
      "| GOLD         |                13800 |\n",
      "| LIGHT BLUE   |                12964 |\n",
      "| ORANGE       |                12878 |\n",
      "| FOREST GREEN |                12213 |\n",
      "| GRAPHITE     |                 9854 |\n",
      "| SILVER       |                 9165 |\n",
      "| ASH          |                 9017 |\n",
      "| PINK         |                 7624 |\n",
      "| FOREST       |                 7570 |\n",
      "| LIME         |                 7537 |\n",
      "| KELLY        |                 7487 |\n",
      "| BLACK/WHITE  |                 7391 |\n"
     ]
    }
   ],
   "source": [
    "results = col.aggregate(\n",
    "    [\n",
    "        {\n",
    "            \"$group\": {\n",
    "                \"_id\": \"$color\",\n",
    "                \"count\": {\"$sum\": 1},\n",
    "            }\n",
    "        },\n",
    "        {\n",
    "            \"$sort\": {\n",
    "                \"count\": -1,\n",
    "            }\n",
    "        },\n",
    "        {\n",
    "            \"$limit\": 20\n",
    "        }\n",
    "    ]\n",
    ")\n",
    "TOP_COLORS = [(str(x['_id']), x['count']) for x in list(results)]\n",
    "print(tabulate(TOP_COLORS, headers=['Color', 'Number of Products'], tablefmt=\"orgtbl\"))"
   ]
  },
  {
   "cell_type": "markdown",
   "metadata": {},
   "source": [
    "## Top Codes"
   ]
  },
  {
   "cell_type": "code",
   "execution_count": 43,
   "metadata": {},
   "outputs": [
    {
     "name": "stdout",
     "output_type": "stream",
     "text": [
      "| Code   |   Number of items |\n",
      "|--------+-------------------|\n",
      "| 874    |              3219 |\n",
      "| 5180   |              3098 |\n",
      "| 2000   |              3060 |\n",
      "| 5250   |              2910 |\n",
      "| 5000   |              2801 |\n",
      "| 29M    |              2764 |\n",
      "| 980    |              2521 |\n",
      "| 5170   |              2392 |\n",
      "| 4400   |              2329 |\n",
      "| 3001   |              2328 |\n",
      "| 1717   |              2304 |\n",
      "| 3005   |              2280 |\n",
      "| 3001C  |              2224 |\n",
      "| 4980   |              2200 |\n",
      "| 3480   |              2063 |\n",
      "| 6004   |              2055 |\n",
      "| M1009  |              2002 |\n",
      "| 29B    |              1943 |\n",
      "| 3600   |              1906 |\n",
      "| 9030   |              1857 |\n"
     ]
    }
   ],
   "source": [
    "results = col.aggregate(\n",
    "    [\n",
    "        {\n",
    "            \"$group\": {\n",
    "                \"_id\": \"$code\",\n",
    "                \"count\": {\"$sum\": 1},\n",
    "            }\n",
    "        },\n",
    "        {\n",
    "            \"$sort\": {\n",
    "                \"count\": -1,\n",
    "            }\n",
    "        },\n",
    "        {\n",
    "            \"$limit\": 20\n",
    "        }\n",
    "    ]\n",
    ")\n",
    "TOP_CODES = [(str(x['_id']), x['count']) for x in list(results)]\n",
    "print(tabulate(TOP_CODES, headers=['Code', 'Number of Products'], tablefmt=\"orgtbl\"))"
   ]
  },
  {
   "cell_type": "markdown",
   "metadata": {},
   "source": [
    "## Measurements per Distributor\n",
    "\n",
    "Collect the number of uniq brands, color, sizes, categories and codes for each distributor"
   ]
  },
  {
   "cell_type": "code",
   "execution_count": 52,
   "metadata": {},
   "outputs": [
    {
     "data": {
      "text/html": [
       "<script>requirejs.config({paths: { 'plotly': ['https://cdn.plot.ly/plotly-latest.min']},});if(!window.Plotly) {{require(['plotly'],function(plotly) {window.Plotly=plotly;});}}</script>"
      ],
      "text/vnd.plotly.v1+html": [
       "<script>requirejs.config({paths: { 'plotly': ['https://cdn.plot.ly/plotly-latest.min']},});if(!window.Plotly) {{require(['plotly'],function(plotly) {window.Plotly=plotly;});}}</script>"
      ]
     },
     "metadata": {},
     "output_type": "display_data"
    },
    {
     "name": "stdout",
     "output_type": "stream",
     "text": [
      "| Distributor   |   Brands |   Colors |   Sizes |   Categories |   Codes |\n",
      "|---------------+----------+----------+---------+--------------+---------|\n",
      "| marsha        |      123 |     6715 |     222 |          143 |    5210 |\n",
      "| ignacia       |      114 |     6076 |     106 |          114 |    5116 |\n",
      "| shemeka       |       33 |     3385 |     286 |           13 |    2055 |\n",
      "| jeneva        |       66 |     3011 |     491 |           66 |    2675 |\n",
      "| denisha       |        1 |     2746 |      74 |           34 |     885 |\n",
      "| patti         |       58 |     2687 |      81 |           26 |    3054 |\n",
      "| larry         |       72 |     2600 |     107 |            8 |    2345 |\n",
      "| evie          |       73 |     2515 |      64 |           20 |    2539 |\n",
      "| kina          |       40 |     2295 |     189 |           29 |    1927 |\n",
      "| titus         |       78 |     2148 |      50 |            7 |    1370 |\n",
      "| rubi          |       10 |     1697 |     186 |           54 |    1666 |\n",
      "| allegra       |        1 |     1696 |      64 |            0 |    1644 |\n",
      "| major         |       22 |     1319 |      63 |           18 |    1443 |\n",
      "| rossana       |       15 |     1110 |      27 |           12 |    1005 |\n",
      "| wendell       |       31 |      959 |      94 |           86 |     760 |\n",
      "| carey         |       15 |      691 |      35 |           18 |     931 |\n",
      "| yolande       |       12 |      262 |      28 |           14 |     109 |\n",
      "| zack          |        1 |      158 |      14 |            0 |      86 |\n",
      "| ciara         |        1 |      142 |      30 |           17 |     142 |\n",
      "| joanie        |       16 |      122 |      17 |            6 |     381 |\n"
     ]
    }
   ],
   "source": [
    "MEASUREMENT_PER_DISTRIBUTOR = col.aggregate(\n",
    "    [\n",
    "        {\n",
    "            \"$group\": {\n",
    "                \"_id\": \"$source\",\n",
    "                \"brands\": {\"$addToSet\": \"$brand\"},\n",
    "                \"colors\": {\"$addToSet\": \"$color\"},\n",
    "                \"sizes\": {\"$addToSet\": \"$size\"},\n",
    "                \"categories\": {\"$addToSet\": \"$category\"},\n",
    "                \"codes\": {\"$addToSet\": \"$code\"}\n",
    "            }\n",
    "        },\n",
    "        {\n",
    "            \"$project\": {\n",
    "                \"_id\": 1,\n",
    "                \"brands\": {\"$size\": \"$brands\"},\n",
    "                \"colors\": {\"$size\": \"$colors\"},\n",
    "                \"sizes\": {\"$size\": \"$sizes\"},\n",
    "                \"categories\": {\"$size\": \"$categories\"},\n",
    "                \"codes\": {\"$size\": \"$codes\"},\n",
    "            }\n",
    "        },\n",
    "        {\n",
    "            \"$sort\": {\n",
    "                \"categories\": -1,\n",
    "                \"brands\": -1,\n",
    "                \"colors\": -1,\n",
    "                \"sizes\": -1,\n",
    "                \"codes\": -1,\n",
    "            }\n",
    "        },\n",
    "    ]\n",
    ")\n",
    "\n",
    "TABLE_MEASUREMENTS_PER_DISTRIBUTOR = [\n",
    "    (str(x['_id']), x['brands'], x['colors'], \n",
    "     x['sizes'], x['categories'], x['codes']) \n",
    "    for x in list(MEASUREMENT_PER_DISTRIBUTOR)\n",
    "]\n",
    "print(tabulate(TABLE_MEASUREMENTS_PER_DISTRIBUTOR, \n",
    "               headers=[\n",
    "                   'Distributor', 'Brands', 'Colors', \n",
    "                   'Sizes', 'Categories', 'Codes'], \n",
    "               tablefmt=\"orgtbl\"))\n",
    "\n"
   ]
  },
  {
   "cell_type": "markdown",
   "metadata": {},
   "source": [
    "## Plot joined bar chat"
   ]
  },
  {
   "cell_type": "code",
   "execution_count": 82,
   "metadata": {},
   "outputs": [
    {
     "data": {
      "text/html": [
       "<script>requirejs.config({paths: { 'plotly': ['https://cdn.plot.ly/plotly-latest.min']},});if(!window.Plotly) {{require(['plotly'],function(plotly) {window.Plotly=plotly;});}}</script>"
      ],
      "text/vnd.plotly.v1+html": [
       "<script>requirejs.config({paths: { 'plotly': ['https://cdn.plot.ly/plotly-latest.min']},});if(!window.Plotly) {{require(['plotly'],function(plotly) {window.Plotly=plotly;});}}</script>"
      ]
     },
     "metadata": {},
     "output_type": "display_data"
    },
    {
     "data": {
      "application/vnd.plotly.v1+json": {
       "data": [
        {
         "marker": {
          "color": "<list_iterator object at 0x109bb8320>"
         },
         "name": "marsha",
         "type": "bar",
         "x": [
          "Brnd",
          "Clrs",
          "Szs",
          "Cts",
          "Cds"
         ],
         "y": [
          123,
          6715,
          222,
          143,
          5210
         ]
        },
        {
         "marker": {
          "color": "<list_iterator object at 0x109bb8320>"
         },
         "name": "ignacia",
         "type": "bar",
         "x": [
          "Brnd",
          "Clrs",
          "Szs",
          "Cts",
          "Cds"
         ],
         "y": [
          114,
          6076,
          106,
          114,
          5116
         ]
        },
        {
         "marker": {
          "color": "<list_iterator object at 0x109bb8320>"
         },
         "name": "shemeka",
         "type": "bar",
         "x": [
          "Brnd",
          "Clrs",
          "Szs",
          "Cts",
          "Cds"
         ],
         "y": [
          33,
          3385,
          286,
          13,
          2055
         ]
        },
        {
         "marker": {
          "color": "<list_iterator object at 0x109bb8320>"
         },
         "name": "jeneva",
         "type": "bar",
         "x": [
          "Brnd",
          "Clrs",
          "Szs",
          "Cts",
          "Cds"
         ],
         "y": [
          66,
          3011,
          491,
          66,
          2675
         ]
        },
        {
         "marker": {
          "color": "<list_iterator object at 0x109bb8320>"
         },
         "name": "denisha",
         "type": "bar",
         "x": [
          "Brnd",
          "Clrs",
          "Szs",
          "Cts",
          "Cds"
         ],
         "y": [
          1,
          2746,
          74,
          34,
          885
         ]
        },
        {
         "marker": {
          "color": "<list_iterator object at 0x109bb8320>"
         },
         "name": "patti",
         "type": "bar",
         "x": [
          "Brnd",
          "Clrs",
          "Szs",
          "Cts",
          "Cds"
         ],
         "y": [
          58,
          2687,
          81,
          26,
          3054
         ]
        },
        {
         "marker": {
          "color": "<list_iterator object at 0x109bb8320>"
         },
         "name": "larry",
         "type": "bar",
         "x": [
          "Brnd",
          "Clrs",
          "Szs",
          "Cts",
          "Cds"
         ],
         "y": [
          72,
          2600,
          107,
          8,
          2345
         ]
        },
        {
         "marker": {
          "color": "<list_iterator object at 0x109bb8320>"
         },
         "name": "evie",
         "type": "bar",
         "x": [
          "Brnd",
          "Clrs",
          "Szs",
          "Cts",
          "Cds"
         ],
         "y": [
          73,
          2515,
          64,
          20,
          2539
         ]
        },
        {
         "marker": {
          "color": "<list_iterator object at 0x10c62a4e0>"
         },
         "name": "kina",
         "type": "bar",
         "x": [
          "Brnd",
          "Clrs",
          "Szs",
          "Cts",
          "Cds"
         ],
         "y": [
          40,
          2295,
          189,
          29,
          1927
         ]
        },
        {
         "marker": {
          "color": "<list_iterator object at 0x10c62a4e0>"
         },
         "name": "titus",
         "type": "bar",
         "x": [
          "Brnd",
          "Clrs",
          "Szs",
          "Cts",
          "Cds"
         ],
         "y": [
          78,
          2148,
          50,
          7,
          1370
         ]
        },
        {
         "marker": {
          "color": "<list_iterator object at 0x10c62a4e0>"
         },
         "name": "rubi",
         "type": "bar",
         "x": [
          "Brnd",
          "Clrs",
          "Szs",
          "Cts",
          "Cds"
         ],
         "y": [
          10,
          1697,
          186,
          54,
          1666
         ]
        },
        {
         "marker": {
          "color": "<list_iterator object at 0x10c62a4e0>"
         },
         "name": "allegra",
         "type": "bar",
         "x": [
          "Brnd",
          "Clrs",
          "Szs",
          "Cts",
          "Cds"
         ],
         "y": [
          1,
          1696,
          64,
          0,
          1644
         ]
        },
        {
         "marker": {
          "color": "<list_iterator object at 0x10c62a4e0>"
         },
         "name": "major",
         "type": "bar",
         "x": [
          "Brnd",
          "Clrs",
          "Szs",
          "Cts",
          "Cds"
         ],
         "y": [
          22,
          1319,
          63,
          18,
          1443
         ]
        },
        {
         "marker": {
          "color": "<list_iterator object at 0x10c62a4e0>"
         },
         "name": "rossana",
         "type": "bar",
         "x": [
          "Brnd",
          "Clrs",
          "Szs",
          "Cts",
          "Cds"
         ],
         "y": [
          15,
          1110,
          27,
          12,
          1005
         ]
        },
        {
         "marker": {
          "color": "<list_iterator object at 0x10c62a4e0>"
         },
         "name": "wendell",
         "type": "bar",
         "x": [
          "Brnd",
          "Clrs",
          "Szs",
          "Cts",
          "Cds"
         ],
         "y": [
          31,
          959,
          94,
          86,
          760
         ]
        },
        {
         "marker": {
          "color": "<list_iterator object at 0x10c62a4e0>"
         },
         "name": "carey",
         "type": "bar",
         "x": [
          "Brnd",
          "Clrs",
          "Szs",
          "Cts",
          "Cds"
         ],
         "y": [
          15,
          691,
          35,
          18,
          931
         ]
        },
        {
         "marker": {
          "color": "<list_iterator object at 0x10c62a4e0>"
         },
         "name": "yolande",
         "type": "bar",
         "x": [
          "Brnd",
          "Clrs",
          "Szs",
          "Cts",
          "Cds"
         ],
         "y": [
          12,
          262,
          28,
          14,
          109
         ]
        },
        {
         "marker": {
          "color": "<list_iterator object at 0x10c62a4e0>"
         },
         "name": "zack",
         "type": "bar",
         "x": [
          "Brnd",
          "Clrs",
          "Szs",
          "Cts",
          "Cds"
         ],
         "y": [
          1,
          158,
          14,
          0,
          86
         ]
        },
        {
         "marker": {
          "color": "<list_iterator object at 0x10c62a4e0>"
         },
         "name": "ciara",
         "type": "bar",
         "x": [
          "Brnd",
          "Clrs",
          "Szs",
          "Cts",
          "Cds"
         ],
         "y": [
          1,
          142,
          30,
          17,
          142
         ]
        },
        {
         "marker": {
          "color": "<list_iterator object at 0x10c62a4e0>"
         },
         "name": "joanie",
         "type": "bar",
         "x": [
          "Brnd",
          "Clrs",
          "Szs",
          "Cts",
          "Cds"
         ],
         "y": [
          16,
          122,
          17,
          6,
          381
         ]
        }
       ],
       "layout": {
        "title": "Joined chart",
        "xaxis": {
         "title": "Measurement"
        },
        "yaxis": {
         "title": "Products"
        }
       }
      },
      "text/html": [
       "<div id=\"aea65558-962d-43d6-8d2b-df3bff809e7b\" style=\"height: 525px; width: 100%;\" class=\"plotly-graph-div\"></div><script type=\"text/javascript\">require([\"plotly\"], function(Plotly) { window.PLOTLYENV=window.PLOTLYENV || {};window.PLOTLYENV.BASE_URL=\"https://plot.ly\";Plotly.newPlot(\"aea65558-962d-43d6-8d2b-df3bff809e7b\", [{\"marker\": {\"color\": \"<list_iterator object at 0x109bb8320>\"}, \"name\": \"marsha\", \"type\": \"bar\", \"x\": [\"Brnd\", \"Clrs\", \"Szs\", \"Cts\", \"Cds\"], \"y\": [123, 6715, 222, 143, 5210]}, {\"marker\": {\"color\": \"<list_iterator object at 0x109bb8320>\"}, \"name\": \"ignacia\", \"type\": \"bar\", \"x\": [\"Brnd\", \"Clrs\", \"Szs\", \"Cts\", \"Cds\"], \"y\": [114, 6076, 106, 114, 5116]}, {\"marker\": {\"color\": \"<list_iterator object at 0x109bb8320>\"}, \"name\": \"shemeka\", \"type\": \"bar\", \"x\": [\"Brnd\", \"Clrs\", \"Szs\", \"Cts\", \"Cds\"], \"y\": [33, 3385, 286, 13, 2055]}, {\"marker\": {\"color\": \"<list_iterator object at 0x109bb8320>\"}, \"name\": \"jeneva\", \"type\": \"bar\", \"x\": [\"Brnd\", \"Clrs\", \"Szs\", \"Cts\", \"Cds\"], \"y\": [66, 3011, 491, 66, 2675]}, {\"marker\": {\"color\": \"<list_iterator object at 0x109bb8320>\"}, \"name\": \"denisha\", \"type\": \"bar\", \"x\": [\"Brnd\", \"Clrs\", \"Szs\", \"Cts\", \"Cds\"], \"y\": [1, 2746, 74, 34, 885]}, {\"marker\": {\"color\": \"<list_iterator object at 0x109bb8320>\"}, \"name\": \"patti\", \"type\": \"bar\", \"x\": [\"Brnd\", \"Clrs\", \"Szs\", \"Cts\", \"Cds\"], \"y\": [58, 2687, 81, 26, 3054]}, {\"marker\": {\"color\": \"<list_iterator object at 0x109bb8320>\"}, \"name\": \"larry\", \"type\": \"bar\", \"x\": [\"Brnd\", \"Clrs\", \"Szs\", \"Cts\", \"Cds\"], \"y\": [72, 2600, 107, 8, 2345]}, {\"marker\": {\"color\": \"<list_iterator object at 0x109bb8320>\"}, \"name\": \"evie\", \"type\": \"bar\", \"x\": [\"Brnd\", \"Clrs\", \"Szs\", \"Cts\", \"Cds\"], \"y\": [73, 2515, 64, 20, 2539]}, {\"marker\": {\"color\": \"<list_iterator object at 0x10c62a4e0>\"}, \"name\": \"kina\", \"type\": \"bar\", \"x\": [\"Brnd\", \"Clrs\", \"Szs\", \"Cts\", \"Cds\"], \"y\": [40, 2295, 189, 29, 1927]}, {\"marker\": {\"color\": \"<list_iterator object at 0x10c62a4e0>\"}, \"name\": \"titus\", \"type\": \"bar\", \"x\": [\"Brnd\", \"Clrs\", \"Szs\", \"Cts\", \"Cds\"], \"y\": [78, 2148, 50, 7, 1370]}, {\"marker\": {\"color\": \"<list_iterator object at 0x10c62a4e0>\"}, \"name\": \"rubi\", \"type\": \"bar\", \"x\": [\"Brnd\", \"Clrs\", \"Szs\", \"Cts\", \"Cds\"], \"y\": [10, 1697, 186, 54, 1666]}, {\"marker\": {\"color\": \"<list_iterator object at 0x10c62a4e0>\"}, \"name\": \"allegra\", \"type\": \"bar\", \"x\": [\"Brnd\", \"Clrs\", \"Szs\", \"Cts\", \"Cds\"], \"y\": [1, 1696, 64, 0, 1644]}, {\"marker\": {\"color\": \"<list_iterator object at 0x10c62a4e0>\"}, \"name\": \"major\", \"type\": \"bar\", \"x\": [\"Brnd\", \"Clrs\", \"Szs\", \"Cts\", \"Cds\"], \"y\": [22, 1319, 63, 18, 1443]}, {\"marker\": {\"color\": \"<list_iterator object at 0x10c62a4e0>\"}, \"name\": \"rossana\", \"type\": \"bar\", \"x\": [\"Brnd\", \"Clrs\", \"Szs\", \"Cts\", \"Cds\"], \"y\": [15, 1110, 27, 12, 1005]}, {\"marker\": {\"color\": \"<list_iterator object at 0x10c62a4e0>\"}, \"name\": \"wendell\", \"type\": \"bar\", \"x\": [\"Brnd\", \"Clrs\", \"Szs\", \"Cts\", \"Cds\"], \"y\": [31, 959, 94, 86, 760]}, {\"marker\": {\"color\": \"<list_iterator object at 0x10c62a4e0>\"}, \"name\": \"carey\", \"type\": \"bar\", \"x\": [\"Brnd\", \"Clrs\", \"Szs\", \"Cts\", \"Cds\"], \"y\": [15, 691, 35, 18, 931]}, {\"marker\": {\"color\": \"<list_iterator object at 0x10c62a4e0>\"}, \"name\": \"yolande\", \"type\": \"bar\", \"x\": [\"Brnd\", \"Clrs\", \"Szs\", \"Cts\", \"Cds\"], \"y\": [12, 262, 28, 14, 109]}, {\"marker\": {\"color\": \"<list_iterator object at 0x10c62a4e0>\"}, \"name\": \"zack\", \"type\": \"bar\", \"x\": [\"Brnd\", \"Clrs\", \"Szs\", \"Cts\", \"Cds\"], \"y\": [1, 158, 14, 0, 86]}, {\"marker\": {\"color\": \"<list_iterator object at 0x10c62a4e0>\"}, \"name\": \"ciara\", \"type\": \"bar\", \"x\": [\"Brnd\", \"Clrs\", \"Szs\", \"Cts\", \"Cds\"], \"y\": [1, 142, 30, 17, 142]}, {\"marker\": {\"color\": \"<list_iterator object at 0x10c62a4e0>\"}, \"name\": \"joanie\", \"type\": \"bar\", \"x\": [\"Brnd\", \"Clrs\", \"Szs\", \"Cts\", \"Cds\"], \"y\": [16, 122, 17, 6, 381]}], {\"title\": \"Joined chart\", \"xaxis\": {\"title\": \"Measurement\"}, \"yaxis\": {\"title\": \"Products\"}}, {\"showLink\": true, \"linkText\": \"Export to plot.ly\"})});</script>"
      ],
      "text/vnd.plotly.v1+html": [
       "<div id=\"aea65558-962d-43d6-8d2b-df3bff809e7b\" style=\"height: 525px; width: 100%;\" class=\"plotly-graph-div\"></div><script type=\"text/javascript\">require([\"plotly\"], function(Plotly) { window.PLOTLYENV=window.PLOTLYENV || {};window.PLOTLYENV.BASE_URL=\"https://plot.ly\";Plotly.newPlot(\"aea65558-962d-43d6-8d2b-df3bff809e7b\", [{\"marker\": {\"color\": \"<list_iterator object at 0x109bb8320>\"}, \"name\": \"marsha\", \"type\": \"bar\", \"x\": [\"Brnd\", \"Clrs\", \"Szs\", \"Cts\", \"Cds\"], \"y\": [123, 6715, 222, 143, 5210]}, {\"marker\": {\"color\": \"<list_iterator object at 0x109bb8320>\"}, \"name\": \"ignacia\", \"type\": \"bar\", \"x\": [\"Brnd\", \"Clrs\", \"Szs\", \"Cts\", \"Cds\"], \"y\": [114, 6076, 106, 114, 5116]}, {\"marker\": {\"color\": \"<list_iterator object at 0x109bb8320>\"}, \"name\": \"shemeka\", \"type\": \"bar\", \"x\": [\"Brnd\", \"Clrs\", \"Szs\", \"Cts\", \"Cds\"], \"y\": [33, 3385, 286, 13, 2055]}, {\"marker\": {\"color\": \"<list_iterator object at 0x109bb8320>\"}, \"name\": \"jeneva\", \"type\": \"bar\", \"x\": [\"Brnd\", \"Clrs\", \"Szs\", \"Cts\", \"Cds\"], \"y\": [66, 3011, 491, 66, 2675]}, {\"marker\": {\"color\": \"<list_iterator object at 0x109bb8320>\"}, \"name\": \"denisha\", \"type\": \"bar\", \"x\": [\"Brnd\", \"Clrs\", \"Szs\", \"Cts\", \"Cds\"], \"y\": [1, 2746, 74, 34, 885]}, {\"marker\": {\"color\": \"<list_iterator object at 0x109bb8320>\"}, \"name\": \"patti\", \"type\": \"bar\", \"x\": [\"Brnd\", \"Clrs\", \"Szs\", \"Cts\", \"Cds\"], \"y\": [58, 2687, 81, 26, 3054]}, {\"marker\": {\"color\": \"<list_iterator object at 0x109bb8320>\"}, \"name\": \"larry\", \"type\": \"bar\", \"x\": [\"Brnd\", \"Clrs\", \"Szs\", \"Cts\", \"Cds\"], \"y\": [72, 2600, 107, 8, 2345]}, {\"marker\": {\"color\": \"<list_iterator object at 0x109bb8320>\"}, \"name\": \"evie\", \"type\": \"bar\", \"x\": [\"Brnd\", \"Clrs\", \"Szs\", \"Cts\", \"Cds\"], \"y\": [73, 2515, 64, 20, 2539]}, {\"marker\": {\"color\": \"<list_iterator object at 0x10c62a4e0>\"}, \"name\": \"kina\", \"type\": \"bar\", \"x\": [\"Brnd\", \"Clrs\", \"Szs\", \"Cts\", \"Cds\"], \"y\": [40, 2295, 189, 29, 1927]}, {\"marker\": {\"color\": \"<list_iterator object at 0x10c62a4e0>\"}, \"name\": \"titus\", \"type\": \"bar\", \"x\": [\"Brnd\", \"Clrs\", \"Szs\", \"Cts\", \"Cds\"], \"y\": [78, 2148, 50, 7, 1370]}, {\"marker\": {\"color\": \"<list_iterator object at 0x10c62a4e0>\"}, \"name\": \"rubi\", \"type\": \"bar\", \"x\": [\"Brnd\", \"Clrs\", \"Szs\", \"Cts\", \"Cds\"], \"y\": [10, 1697, 186, 54, 1666]}, {\"marker\": {\"color\": \"<list_iterator object at 0x10c62a4e0>\"}, \"name\": \"allegra\", \"type\": \"bar\", \"x\": [\"Brnd\", \"Clrs\", \"Szs\", \"Cts\", \"Cds\"], \"y\": [1, 1696, 64, 0, 1644]}, {\"marker\": {\"color\": \"<list_iterator object at 0x10c62a4e0>\"}, \"name\": \"major\", \"type\": \"bar\", \"x\": [\"Brnd\", \"Clrs\", \"Szs\", \"Cts\", \"Cds\"], \"y\": [22, 1319, 63, 18, 1443]}, {\"marker\": {\"color\": \"<list_iterator object at 0x10c62a4e0>\"}, \"name\": \"rossana\", \"type\": \"bar\", \"x\": [\"Brnd\", \"Clrs\", \"Szs\", \"Cts\", \"Cds\"], \"y\": [15, 1110, 27, 12, 1005]}, {\"marker\": {\"color\": \"<list_iterator object at 0x10c62a4e0>\"}, \"name\": \"wendell\", \"type\": \"bar\", \"x\": [\"Brnd\", \"Clrs\", \"Szs\", \"Cts\", \"Cds\"], \"y\": [31, 959, 94, 86, 760]}, {\"marker\": {\"color\": \"<list_iterator object at 0x10c62a4e0>\"}, \"name\": \"carey\", \"type\": \"bar\", \"x\": [\"Brnd\", \"Clrs\", \"Szs\", \"Cts\", \"Cds\"], \"y\": [15, 691, 35, 18, 931]}, {\"marker\": {\"color\": \"<list_iterator object at 0x10c62a4e0>\"}, \"name\": \"yolande\", \"type\": \"bar\", \"x\": [\"Brnd\", \"Clrs\", \"Szs\", \"Cts\", \"Cds\"], \"y\": [12, 262, 28, 14, 109]}, {\"marker\": {\"color\": \"<list_iterator object at 0x10c62a4e0>\"}, \"name\": \"zack\", \"type\": \"bar\", \"x\": [\"Brnd\", \"Clrs\", \"Szs\", \"Cts\", \"Cds\"], \"y\": [1, 158, 14, 0, 86]}, {\"marker\": {\"color\": \"<list_iterator object at 0x10c62a4e0>\"}, \"name\": \"ciara\", \"type\": \"bar\", \"x\": [\"Brnd\", \"Clrs\", \"Szs\", \"Cts\", \"Cds\"], \"y\": [1, 142, 30, 17, 142]}, {\"marker\": {\"color\": \"<list_iterator object at 0x10c62a4e0>\"}, \"name\": \"joanie\", \"type\": \"bar\", \"x\": [\"Brnd\", \"Clrs\", \"Szs\", \"Cts\", \"Cds\"], \"y\": [16, 122, 17, 6, 381]}], {\"title\": \"Joined chart\", \"xaxis\": {\"title\": \"Measurement\"}, \"yaxis\": {\"title\": \"Products\"}}, {\"showLink\": true, \"linkText\": \"Export to plot.ly\"})});</script>"
      ]
     },
     "metadata": {},
     "output_type": "display_data"
    }
   ],
   "source": [
    "import numpy as np\n",
    "from plotly.offline import iplot, init_notebook_mode\n",
    "from plotly.graph_objs import Bar\n",
    "init_notebook_mode(connected=True)\n",
    "\n",
    "\n",
    "def get_bar(df, name, color):\n",
    "    return Bar(\n",
    "        x=['Brnd', 'Clrs', 'Szs', 'Cts', 'Cds'], y=df[1:], \n",
    "        name=name, marker=dict(color=color))\n",
    "\n",
    "data = []\n",
    "colors = ['#ffcdd2', '#a2d5f2', '#235412', '#415220', '#59606d']\n",
    "for dist in TABLE_MEASUREMENTS_PER_DISTRIBUTOR:\n",
    "    name = dist[0]\n",
    "    data.append(get_bar(dist, name, str(iter(colors))))\n",
    "\n",
    "layout = Layout(title=\"Joined chart\",\n",
    "                xaxis=dict(title='Measurement'),\n",
    "                yaxis=dict(title='Products'))\n",
    "fig = Figure(data=data, layout=layout)\n",
    "iplot(fig, filename='jupyter/joined_chart')\n"
   ]
  },
  {
   "cell_type": "markdown",
   "metadata": {},
   "source": [
    "Looking on chart above easy i guess i'll start with sizes. categories and brands."
   ]
  }
 ],
 "metadata": {
  "kernelspec": {
   "display_name": "Python 3",
   "language": "python",
   "name": "python3"
  },
  "language_info": {
   "codemirror_mode": {
    "name": "ipython",
    "version": 3
   },
   "file_extension": ".py",
   "mimetype": "text/x-python",
   "name": "python",
   "nbconvert_exporter": "python",
   "pygments_lexer": "ipython3",
   "version": "3.5.2"
  }
 },
 "nbformat": 4,
 "nbformat_minor": 2
}
