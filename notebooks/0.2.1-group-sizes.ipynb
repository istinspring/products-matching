{
 "cells": [
  {
   "cell_type": "markdown",
   "metadata": {},
   "source": [
    "# Group sizes with ML"
   ]
  },
  {
   "cell_type": "code",
   "execution_count": 11,
   "metadata": {},
   "outputs": [
    {
     "name": "stdout",
     "output_type": "stream",
     "text": [
      "Records: 1561159 Uniq. sizes: 1117\n",
      "Size        Count    # of Distr.\n",
      "--------  -------  -------------\n",
      "M          202965             20\n",
      "L          202641             20\n",
      "S          202589             20\n",
      "XL         186166             20\n",
      "2XL        152014             18\n",
      "3XL        106966             19\n",
      "XS          71104             18\n",
      "4XL         50869             17\n",
      "MEDIUM      31645              1\n",
      "LARGE       31599              2\n",
      "SMALL       31506              1\n",
      "EXTRA       31098              1\n",
      "2X          20091              9\n",
      "3X          20085              8\n",
      "5XL         17541             18\n",
      "ONE         13786              7\n",
      "XXL         11288              8\n",
      "OS           7615              7\n",
      "ONE SIZE     7269             10\n",
      "XX           7184              1\n",
      "6XL          6993             15\n",
      "4X           6945              8\n",
      "ALL          4087              2\n",
      "L/XL         3901             14\n",
      "XLT          3819             13\n",
      "OSFA         3687              3\n",
      "S/M          3490             15\n",
      "LT           3355             13\n",
      "2XLT         3004             12\n",
      "3XLT         2782             11\n"
     ]
    }
   ],
   "source": [
    "# common imports\n",
    "%matplotlib inline\n",
    "import numpy as np\n",
    "import pandas as pd\n",
    "from tabulate import tabulate\n",
    "from pymongo import MongoClient\n",
    "import matplotlib.pyplot as plt\n",
    "plt.style.use('seaborn')\n",
    "plt.rcParams[\"figure.figsize\"] = (20,8)\n",
    "\n",
    "db = MongoClient()['stores']\n",
    "\n",
    "# assuming we there is collection named\n",
    "# `size_mapping` with fields `['_id', 'source', 'size']`\n",
    "TOTAL_NUMBER_OF_RECORDS = db.size_mapping.count()\n",
    "NUMBER_OF_UNIQ_SIZES = len(db.size_mapping.distinct(\"size\"))\n",
    "\n",
    "results = db.size_mapping.aggregate(\n",
    "    [\n",
    "        {\n",
    "            \"$group\": {\n",
    "                \"_id\": \"$size\",\n",
    "                \"distributors\": {\"$addToSet\": \"$source\"},\n",
    "                \"count\": {\"$sum\": 1},\n",
    "            }\n",
    "        },\n",
    "        {\n",
    "            \"$project\": {\n",
    "                \"_id\": 1,\n",
    "                \"distributors_number\": {\"$size\": \"$distributors\"},\n",
    "                \"distributors\": 1,\n",
    "                \"count\": 1,\n",
    "            },\n",
    "        },\n",
    "        {\n",
    "            \"$sort\": {\n",
    "                \"count\": -1,\n",
    "            }\n",
    "        }\n",
    "    ]\n",
    ")\n",
    "\n",
    "SIZES_WITH_DISTRIBUTORS = [\n",
    "    (str(x['_id']), \n",
    "     x['count'], \n",
    "     x['distributors_number'],\n",
    "     x['distributors']) \n",
    "    for x in list(results)\n",
    "]\n",
    "print('Records: {} Uniq. sizes: {}'.format(\n",
    "    TOTAL_NUMBER_OF_RECORDS, NUMBER_OF_UNIQ_SIZES))\n",
    "\n",
    "table = [(x[0], x[1], x[2]) for x in SIZES_WITH_DISTRIBUTORS[:20]]\n",
    "print(tabulate(table, \n",
    "               headers=['Size', 'Count', '# of Distr.'], \n",
    "               tablefmt=\"simple\"))"
   ]
  },
  {
   "cell_type": "code",
   "execution_count": null,
   "metadata": {
    "collapsed": true
   },
   "outputs": [],
   "source": []
  }
 ],
 "metadata": {
  "kernelspec": {
   "display_name": "Python 3",
   "language": "python",
   "name": "python3"
  },
  "language_info": {
   "codemirror_mode": {
    "name": "ipython",
    "version": 3
   },
   "file_extension": ".py",
   "mimetype": "text/x-python",
   "name": "python",
   "nbconvert_exporter": "python",
   "pygments_lexer": "ipython3",
   "version": "3.5.2"
  }
 },
 "nbformat": 4,
 "nbformat_minor": 2
}
