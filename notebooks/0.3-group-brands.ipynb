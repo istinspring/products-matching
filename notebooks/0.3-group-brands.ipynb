{
 "cells": [
  {
   "cell_type": "markdown",
   "metadata": {},
   "source": [
    "# Group brands"
   ]
  },
  {
   "cell_type": "code",
   "execution_count": 2,
   "metadata": {},
   "outputs": [
    {
     "name": "stdout",
     "output_type": "stream",
     "text": [
      "Number of uniq. brands: 338\n"
     ]
    }
   ],
   "source": [
    "%matplotlib inline\n",
    "import numpy as np\n",
    "import pandas as pd\n",
    "from scipy.stats import entropy\n",
    "from tabulate import tabulate\n",
    "from pymongo import MongoClient\n",
    "import matplotlib.pyplot as plt\n",
    "plt.style.use('seaborn')\n",
    "plt.rcParams[\"figure.figsize\"] = (20,8)\n",
    "\n",
    "\n",
    "db = MongoClient()['stores']\n",
    "\n",
    "TOTAL_NUMBER_OF_PRODUCTS = db.data.count()\n",
    "\n",
    "results = db.data.aggregate(\n",
    "    [\n",
    "        {\n",
    "            \"$group\": {\n",
    "                \"_id\": \"$brand\",\n",
    "                \"count\": {\"$sum\": 1},\n",
    "            }\n",
    "        },\n",
    "        {\n",
    "            \"$sort\": {\n",
    "                \"count\": -1,\n",
    "            }\n",
    "        }\n",
    "    ]\n",
    ")\n",
    "\n",
    "ALL_BRANDS = [(str(x['_id']), x['count']) for x in list(results)]\n",
    "print('Number of uniq. brands: {}'.format(len(ALL_BRANDS)))"
   ]
  },
  {
   "cell_type": "code",
   "execution_count": 3,
   "metadata": {},
   "outputs": [
    {
     "name": "stdout",
     "output_type": "stream",
     "text": [
      "Distributor      Number of uniq. Brands\n",
      "-------------  ------------------------\n",
      "marsha                              123\n",
      "ignacia                             114\n",
      "titus                                78\n",
      "evie                                 73\n",
      "larry                                72\n",
      "jeneva                               66\n",
      "patti                                58\n",
      "kina                                 40\n",
      "shemeka                              33\n",
      "wendell                              31\n",
      "major                                22\n",
      "joanie                               16\n",
      "carey                                15\n",
      "rossana                              15\n",
      "yolande                              12\n",
      "rubi                                 10\n",
      "ciara                                 1\n",
      "allegra                               1\n",
      "denisha                               1\n",
      "zack                                  1\n"
     ]
    },
    {
     "data": {
      "text/plain": [
       "<matplotlib.axes._subplots.AxesSubplot at 0x112bf4ac8>"
      ]
     },
     "execution_count": 3,
     "metadata": {},
     "output_type": "execute_result"
    },
    {
     "data": {
      "image/png": "[encoded data removed]",
      "text/plain": [
       "<matplotlib.figure.Figure at 0x1107b0b70>"
      ]
     },
     "metadata": {},
     "output_type": "display_data"
    }
   ],
   "source": [
    "DISTRIBUTORS = list(db.data.distinct(\"source\"))\n",
    "results = db.data.aggregate(\n",
    "    [\n",
    "        {\n",
    "            \"$group\": {\n",
    "                \"_id\": \"$source\",\n",
    "                \"brands\": {\"$addToSet\": \"$brand\"},\n",
    "            }\n",
    "        },\n",
    "        {\n",
    "            \"$project\": {\n",
    "                \"_id\": 1,\n",
    "                \"count\": {\"$size\": \"$brands\"}\n",
    "            }\n",
    "        },\n",
    "        {\n",
    "            \"$sort\": {\n",
    "                \"count\": -1,\n",
    "            }\n",
    "        }\n",
    "    ]\n",
    ")\n",
    "BRANDS_PER_DISTRIBUTOR = [\n",
    "    (str(x['_id']), x['count']) \n",
    "    for x in list(results)\n",
    "]\n",
    "print(tabulate(BRANDS_PER_DISTRIBUTOR, \n",
    "               headers=['Distributor', 'Number of uniq. Brands'], \n",
    "               tablefmt=\"simple\"))\n",
    "\n",
    "df_values_by_key = pd.DataFrame(BRANDS_PER_DISTRIBUTOR, \n",
    "                                index=[x[0] for x in BRANDS_PER_DISTRIBUTOR], \n",
    "                                columns=['Distributor', 'Brands'])\n",
    "df_values_by_key.iloc[::-1].plot.barh()"
   ]
  },
  {
   "cell_type": "code",
   "execution_count": null,
   "metadata": {
    "collapsed": true
   },
   "outputs": [],
   "source": []
  }
 ],
 "metadata": {
  "kernelspec": {
   "display_name": "Python 3",
   "language": "python",
   "name": "python3"
  },
  "language_info": {
   "codemirror_mode": {
    "name": "ipython",
    "version": 3
   },
   "file_extension": ".py",
   "mimetype": "text/x-python",
   "name": "python",
   "nbconvert_exporter": "python",
   "pygments_lexer": "ipython3",
   "version": "3.5.2"
  }
 },
 "nbformat": 4,
 "nbformat_minor": 2
}
